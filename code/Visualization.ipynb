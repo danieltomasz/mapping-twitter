{
 "cells": [
  {
   "cell_type": "markdown",
   "metadata": {},
   "source": [
    "# Visualizing the shared followers at the brainhack Warsaw"
   ]
  },
  {
   "cell_type": "code",
   "execution_count": 1,
   "metadata": {},
   "outputs": [
    {
     "name": "stderr",
     "output_type": "stream",
     "text": [
      "/home/mboos/anaconda3/envs/brainhacktwitter/lib/python3.6/site-packages/matplotlib/style/core.py:167: UserWarning: In /home/mboos/.config/matplotlib/stylelib/mb.mplstyle: Bad val \"white\" on line #20\n",
      "\t\"grid.linewidth: white\n",
      "\"\n",
      "\tin file \"/home/mboos/.config/matplotlib/stylelib/mb.mplstyle\"\n",
      "\tKey grid.linewidth: Could not convert \"white\" to float\n",
      "  styles = read_style_directory(stylelib_path)\n"
     ]
    }
   ],
   "source": [
    "import numpy as np\n",
    "import matplotlib.pyplot as plt\n",
    "import seaborn as sns\n",
    "from preprocess_data import *"
   ]
  },
  {
   "cell_type": "markdown",
   "metadata": {},
   "source": [
    "## Data loading\n",
    "Our data comes in a dictionary in which each entry is the username of a follower of the Brainhack Warsaw account and its value is a list of all its followers.\n",
    "To find the simplest similarity measure between Twitter users, we compute a matrix of binary indicators, each entry indicates if a user (indicated by the row number) is followed by another user (all _followers_ are indicated by the number of columns)."
   ]
  },
  {
   "cell_type": "code",
   "execution_count": 29,
   "metadata": {},
   "outputs": [],
   "source": [
    "with open('../data/data_so_far.json', 'r') as fl:\n",
    "    data_dict = json.load(fl)\n",
    "data_dict = {key: map(str, val) for key, val in data_dict.items() if val is not None}\n",
    "sparse_mat, vocabulary = compute_sparse_matrix_of_followers(data_dict)"
   ]
  },
  {
   "cell_type": "markdown",
   "metadata": {},
   "source": [
    "## Finding ids for names of users following brainhack\n"
   ]
  },
  {
   "cell_type": "code",
   "execution_count": 75,
   "metadata": {},
   "outputs": [],
   "source": [
    "densemat = sparse_mat.todense()\n",
    "idx_of_bh_followers = np.array([vocabulary[str(idx)]+1  if str(idx) in vocabulary else 0 for idx in user_ids])\n",
    "densemat_padded = np.concatenate([np.zeros((densemat.shape[0], 1)), densemat], axis=-1)"
   ]
  },
  {
   "cell_type": "code",
   "execution_count": 77,
   "metadata": {},
   "outputs": [],
   "source": [
    "new_mat = densemat_padded[:, idx_of_bh_followers]"
   ]
  },
  {
   "cell_type": "code",
   "execution_count": 78,
   "metadata": {},
   "outputs": [
    {
     "data": {
      "text/plain": [
       "<matplotlib.image.AxesImage at 0x7fa3c7ac4978>"
      ]
     },
     "execution_count": 78,
     "metadata": {},
     "output_type": "execute_result"
    },
    {
     "data": {
      "image/png": "[encoded data removed]",
      "text/plain": [
       "<Figure size 432x288 with 1 Axes>"
      ]
     },
     "metadata": {
      "needs_background": "light"
     },
     "output_type": "display_data"
    }
   ],
   "source": [
    "plt.imshow(new_mat)"
   ]
  },
  {
   "cell_type": "code",
   "execution_count": 53,
   "metadata": {},
   "outputs": [
    {
     "name": "stderr",
     "output_type": "stream",
     "text": [
      "/home/mboos/anaconda3/envs/brainhacktwitter/lib/python3.6/site-packages/tweepy/binder.py:222: ResourceWarning: unclosed <socket.socket fd=48, family=AddressFamily.AF_INET, type=2049, proto=6, laddr=('10.83.15.248', 33862), raddr=('104.244.42.194', 443)>\n",
      "  self.api.last_response = resp\n",
      "/home/mboos/anaconda3/envs/brainhacktwitter/lib/python3.6/weakref.py:340: ResourceWarning: unclosed <socket.socket fd=48, family=AddressFamily.AF_INET, type=2049, proto=6, laddr=('10.83.15.248', 46876), raddr=('104.244.42.2', 443)>\n",
      "  super().__init__(ob, callback)\n",
      "/home/mboos/anaconda3/envs/brainhacktwitter/lib/python3.6/weakref.py:340: ResourceWarning: unclosed <socket.socket fd=50, family=AddressFamily.AF_INET, type=2049, proto=6, laddr=('10.83.15.248', 33868), raddr=('104.244.42.194', 443)>\n",
      "  super().__init__(ob, callback)\n",
      "/home/mboos/anaconda3/envs/brainhacktwitter/lib/python3.6/weakref.py:340: ResourceWarning: unclosed <socket.socket fd=51, family=AddressFamily.AF_INET, type=2049, proto=6, laddr=('10.83.15.248', 34808), raddr=('104.244.42.130', 443)>\n",
      "  super().__init__(ob, callback)\n",
      "/home/mboos/anaconda3/envs/brainhacktwitter/lib/python3.6/site-packages/tweepy/binder.py:222: ResourceWarning: unclosed <socket.socket fd=52, family=AddressFamily.AF_INET, type=2049, proto=6, laddr=('10.83.15.248', 55534), raddr=('104.244.42.66', 443)>\n",
      "  self.api.last_response = resp\n",
      "/home/mboos/anaconda3/envs/brainhacktwitter/lib/python3.6/site-packages/cryptography/x509/extensions.py:705: ResourceWarning: unclosed <socket.socket fd=48, family=AddressFamily.AF_INET, type=2049, proto=6, laddr=('10.83.15.248', 33876), raddr=('104.244.42.194', 443)>\n",
      "  policy_qualifiers = list(policy_qualifiers)\n",
      "/home/mboos/anaconda3/envs/brainhacktwitter/lib/python3.6/site-packages/cryptography/x509/extensions.py:705: ResourceWarning: unclosed <socket.socket fd=50, family=AddressFamily.AF_INET, type=2049, proto=6, laddr=('10.83.15.248', 34816), raddr=('104.244.42.130', 443)>\n",
      "  policy_qualifiers = list(policy_qualifiers)\n",
      "/home/mboos/anaconda3/envs/brainhacktwitter/lib/python3.6/site-packages/cryptography/x509/extensions.py:705: ResourceWarning: unclosed <socket.socket fd=51, family=AddressFamily.AF_INET, type=2049, proto=6, laddr=('10.83.15.248', 55542), raddr=('104.244.42.66', 443)>\n",
      "  policy_qualifiers = list(policy_qualifiers)\n",
      "/home/mboos/anaconda3/envs/brainhacktwitter/lib/python3.6/site-packages/tweepy/binder.py:222: ResourceWarning: unclosed <socket.socket fd=52, family=AddressFamily.AF_INET, type=2049, proto=6, laddr=('10.83.15.248', 46892), raddr=('104.244.42.2', 443)>\n",
      "  self.api.last_response = resp\n",
      "/home/mboos/anaconda3/envs/brainhacktwitter/lib/python3.6/site-packages/cryptography/x509/extensions.py:707: ResourceWarning: unclosed <socket.socket fd=48, family=AddressFamily.AF_INET, type=2049, proto=6, laddr=('10.83.15.248', 34824), raddr=('104.244.42.130', 443)>\n",
      "  isinstance(x, (six.text_type, UserNotice))\n",
      "/home/mboos/anaconda3/envs/brainhacktwitter/lib/python3.6/site-packages/cryptography/x509/extensions.py:707: ResourceWarning: unclosed <socket.socket fd=50, family=AddressFamily.AF_INET, type=2049, proto=6, laddr=('10.83.15.248', 55550), raddr=('104.244.42.66', 443)>\n",
      "  isinstance(x, (six.text_type, UserNotice))\n",
      "/home/mboos/anaconda3/envs/brainhacktwitter/lib/python3.6/site-packages/cryptography/x509/extensions.py:707: ResourceWarning: unclosed <socket.socket fd=51, family=AddressFamily.AF_INET, type=2049, proto=6, laddr=('10.83.15.248', 46900), raddr=('104.244.42.2', 443)>\n",
      "  isinstance(x, (six.text_type, UserNotice))\n",
      "/home/mboos/anaconda3/envs/brainhacktwitter/lib/python3.6/site-packages/tweepy/binder.py:222: ResourceWarning: unclosed <socket.socket fd=52, family=AddressFamily.AF_INET, type=2049, proto=6, laddr=('10.83.15.248', 33892), raddr=('104.244.42.194', 443)>\n",
      "  self.api.last_response = resp\n",
      "/home/mboos/anaconda3/envs/brainhacktwitter/lib/python3.6/site-packages/cryptography/hazmat/backends/openssl/decode_asn1.py:393: ResourceWarning: unclosed <socket.socket fd=48, family=AddressFamily.AF_INET, type=2049, proto=6, laddr=('10.83.15.248', 55558), raddr=('104.244.42.66', 443)>\n",
      "  return x509.AuthorityInformationAccess(access_descriptions)\n",
      "/home/mboos/anaconda3/envs/brainhacktwitter/lib/python3.6/site-packages/cryptography/hazmat/backends/openssl/decode_asn1.py:393: ResourceWarning: unclosed <socket.socket fd=50, family=AddressFamily.AF_INET, type=2049, proto=6, laddr=('10.83.15.248', 46908), raddr=('104.244.42.2', 443)>\n",
      "  return x509.AuthorityInformationAccess(access_descriptions)\n",
      "/home/mboos/anaconda3/envs/brainhacktwitter/lib/python3.6/site-packages/cryptography/hazmat/backends/openssl/decode_asn1.py:393: ResourceWarning: unclosed <socket.socket fd=51, family=AddressFamily.AF_INET, type=2049, proto=6, laddr=('10.83.15.248', 33900), raddr=('104.244.42.194', 443)>\n",
      "  return x509.AuthorityInformationAccess(access_descriptions)\n",
      "/home/mboos/anaconda3/envs/brainhacktwitter/lib/python3.6/site-packages/tweepy/binder.py:222: ResourceWarning: unclosed <socket.socket fd=52, family=AddressFamily.AF_INET, type=2049, proto=6, laddr=('10.83.15.248', 34840), raddr=('104.244.42.130', 443)>\n",
      "  self.api.last_response = resp\n",
      "/home/mboos/anaconda3/envs/brainhacktwitter/lib/python3.6/site-packages/cryptography/x509/extensions.py:708: ResourceWarning: unclosed <socket.socket fd=48, family=AddressFamily.AF_INET, type=2049, proto=6, laddr=('10.83.15.248', 46916), raddr=('104.244.42.2', 443)>\n",
      "  for x in policy_qualifiers\n",
      "/home/mboos/anaconda3/envs/brainhacktwitter/lib/python3.6/site-packages/cryptography/x509/extensions.py:708: ResourceWarning: unclosed <socket.socket fd=50, family=AddressFamily.AF_INET, type=2049, proto=6, laddr=('10.83.15.248', 33908), raddr=('104.244.42.194', 443)>\n",
      "  for x in policy_qualifiers\n",
      "/home/mboos/anaconda3/envs/brainhacktwitter/lib/python3.6/site-packages/cryptography/x509/extensions.py:708: ResourceWarning: unclosed <socket.socket fd=51, family=AddressFamily.AF_INET, type=2049, proto=6, laddr=('10.83.15.248', 34848), raddr=('104.244.42.130', 443)>\n",
      "  for x in policy_qualifiers\n",
      "/home/mboos/anaconda3/envs/brainhacktwitter/lib/python3.6/site-packages/tweepy/binder.py:222: ResourceWarning: unclosed <socket.socket fd=52, family=AddressFamily.AF_INET, type=2049, proto=6, laddr=('10.83.15.248', 55574), raddr=('104.244.42.66', 443)>\n",
      "  self.api.last_response = resp\n",
      "/home/mboos/anaconda3/envs/brainhacktwitter/lib/python3.6/site-packages/cryptography/x509/general_name.py:200: ResourceWarning: unclosed <socket.socket fd=48, family=AddressFamily.AF_INET, type=2049, proto=6, laddr=('10.83.15.248', 33916), raddr=('104.244.42.194', 443)>\n",
      "  instance._value = value\n",
      "/home/mboos/anaconda3/envs/brainhacktwitter/lib/python3.6/site-packages/cryptography/x509/general_name.py:200: ResourceWarning: unclosed <socket.socket fd=50, family=AddressFamily.AF_INET, type=2049, proto=6, laddr=('10.83.15.248', 34856), raddr=('104.244.42.130', 443)>\n",
      "  instance._value = value\n",
      "/home/mboos/anaconda3/envs/brainhacktwitter/lib/python3.6/site-packages/cryptography/x509/general_name.py:200: ResourceWarning: unclosed <socket.socket fd=51, family=AddressFamily.AF_INET, type=2049, proto=6, laddr=('10.83.15.248', 55582), raddr=('104.244.42.66', 443)>\n",
      "  instance._value = value\n",
      "/home/mboos/anaconda3/envs/brainhacktwitter/lib/python3.6/site-packages/tweepy/binder.py:222: ResourceWarning: unclosed <socket.socket fd=52, family=AddressFamily.AF_INET, type=2049, proto=6, laddr=('10.83.15.248', 46932), raddr=('104.244.42.2', 443)>\n",
      "  self.api.last_response = resp\n",
      "/home/mboos/anaconda3/envs/brainhacktwitter/lib/python3.6/site-packages/cryptography/x509/extensions.py:708: ResourceWarning: unclosed <socket.socket fd=53, family=AddressFamily.AF_INET, type=2049, proto=6, laddr=('10.83.15.248', 46884), raddr=('104.244.42.2', 443)>\n",
      "  for x in policy_qualifiers\n",
      "/home/mboos/anaconda3/envs/brainhacktwitter/lib/python3.6/site-packages/cryptography/x509/extensions.py:708: ResourceWarning: unclosed <socket.socket fd=49, family=AddressFamily.AF_INET, type=2049, proto=6, laddr=('10.83.15.248', 55526), raddr=('104.244.42.66', 443)>\n",
      "  for x in policy_qualifiers\n",
      "/home/mboos/anaconda3/envs/brainhacktwitter/lib/python3.6/site-packages/cryptography/x509/extensions.py:708: ResourceWarning: unclosed <socket.socket fd=54, family=AddressFamily.AF_INET, type=2049, proto=6, laddr=('10.83.15.248', 33884), raddr=('104.244.42.194', 443)>\n",
      "  for x in policy_qualifiers\n",
      "/home/mboos/anaconda3/envs/brainhacktwitter/lib/python3.6/site-packages/cryptography/x509/extensions.py:708: ResourceWarning: unclosed <socket.socket fd=55, family=AddressFamily.AF_INET, type=2049, proto=6, laddr=('10.83.15.248', 34832), raddr=('104.244.42.130', 443)>\n",
      "  for x in policy_qualifiers\n",
      "/home/mboos/anaconda3/envs/brainhacktwitter/lib/python3.6/site-packages/cryptography/x509/extensions.py:708: ResourceWarning: unclosed <socket.socket fd=56, family=AddressFamily.AF_INET, type=2049, proto=6, laddr=('10.83.15.248', 55566), raddr=('104.244.42.66', 443)>\n",
      "  for x in policy_qualifiers\n",
      "/home/mboos/anaconda3/envs/brainhacktwitter/lib/python3.6/site-packages/cryptography/x509/extensions.py:708: ResourceWarning: unclosed <socket.socket fd=57, family=AddressFamily.AF_INET, type=2049, proto=6, laddr=('10.83.15.248', 46924), raddr=('104.244.42.2', 443)>\n",
      "  for x in policy_qualifiers\n",
      "/home/mboos/anaconda3/envs/brainhacktwitter/lib/python3.6/site-packages/cryptography/x509/extensions.py:708: ResourceWarning: unclosed <socket.socket fd=58, family=AddressFamily.AF_INET, type=2049, proto=6, laddr=('10.83.15.248', 33924), raddr=('104.244.42.194', 443)>\n",
      "  for x in policy_qualifiers\n",
      "/home/mboos/anaconda3/envs/brainhacktwitter/lib/python3.6/site-packages/cryptography/x509/extensions.py:708: ResourceWarning: unclosed <socket.socket fd=48, family=AddressFamily.AF_INET, type=2049, proto=6, laddr=('10.83.15.248', 34864), raddr=('104.244.42.130', 443)>\n",
      "  for x in policy_qualifiers\n",
      "/home/mboos/anaconda3/envs/brainhacktwitter/lib/python3.6/site-packages/cryptography/x509/extensions.py:708: ResourceWarning: unclosed <socket.socket fd=50, family=AddressFamily.AF_INET, type=2049, proto=6, laddr=('10.83.15.248', 55590), raddr=('104.244.42.66', 443)>\n",
      "  for x in policy_qualifiers\n",
      "/home/mboos/anaconda3/envs/brainhacktwitter/lib/python3.6/site-packages/cryptography/x509/extensions.py:708: ResourceWarning: unclosed <socket.socket fd=51, family=AddressFamily.AF_INET, type=2049, proto=6, laddr=('10.83.15.248', 46940), raddr=('104.244.42.2', 443)>\n",
      "  for x in policy_qualifiers\n"
     ]
    },
    {
     "name": "stderr",
     "output_type": "stream",
     "text": [
      "/home/mboos/anaconda3/envs/brainhacktwitter/lib/python3.6/site-packages/tweepy/binder.py:222: ResourceWarning: unclosed <socket.socket fd=52, family=AddressFamily.AF_INET, type=2049, proto=6, laddr=('10.83.15.248', 33932), raddr=('104.244.42.194', 443)>\n",
      "  self.api.last_response = resp\n",
      "/home/mboos/anaconda3/envs/brainhacktwitter/lib/python3.6/site-packages/cryptography/hazmat/backends/openssl/decode_asn1.py:342: ResourceWarning: unclosed <socket.socket fd=48, family=AddressFamily.AF_INET, type=2049, proto=6, laddr=('10.83.15.248', 55598), raddr=('104.244.42.66', 443)>\n",
      "  return x509.BasicConstraints(ca, path_length)\n",
      "/home/mboos/anaconda3/envs/brainhacktwitter/lib/python3.6/site-packages/cryptography/hazmat/backends/openssl/decode_asn1.py:342: ResourceWarning: unclosed <socket.socket fd=49, family=AddressFamily.AF_INET, type=2049, proto=6, laddr=('10.83.15.248', 46948), raddr=('104.244.42.2', 443)>\n",
      "  return x509.BasicConstraints(ca, path_length)\n",
      "/home/mboos/anaconda3/envs/brainhacktwitter/lib/python3.6/site-packages/cryptography/hazmat/backends/openssl/decode_asn1.py:342: ResourceWarning: unclosed <socket.socket fd=50, family=AddressFamily.AF_INET, type=2049, proto=6, laddr=('10.83.15.248', 33940), raddr=('104.244.42.194', 443)>\n",
      "  return x509.BasicConstraints(ca, path_length)\n",
      "/home/mboos/anaconda3/envs/brainhacktwitter/lib/python3.6/site-packages/tweepy/binder.py:222: ResourceWarning: unclosed <socket.socket fd=51, family=AddressFamily.AF_INET, type=2049, proto=6, laddr=('10.83.15.248', 34880), raddr=('104.244.42.130', 443)>\n",
      "  self.api.last_response = resp\n",
      "/home/mboos/anaconda3/envs/brainhacktwitter/lib/python3.6/site-packages/cryptography/x509/extensions.py:664: ResourceWarning: unclosed <socket.socket fd=48, family=AddressFamily.AF_INET, type=2049, proto=6, laddr=('10.83.15.248', 46956), raddr=('104.244.42.2', 443)>\n",
      "  if not all(isinstance(x, PolicyInformation) for x in policies):\n",
      "/home/mboos/anaconda3/envs/brainhacktwitter/lib/python3.6/site-packages/cryptography/x509/extensions.py:664: ResourceWarning: unclosed <socket.socket fd=49, family=AddressFamily.AF_INET, type=2049, proto=6, laddr=('10.83.15.248', 33948), raddr=('104.244.42.194', 443)>\n",
      "  if not all(isinstance(x, PolicyInformation) for x in policies):\n",
      "/home/mboos/anaconda3/envs/brainhacktwitter/lib/python3.6/site-packages/cryptography/x509/extensions.py:664: ResourceWarning: unclosed <socket.socket fd=50, family=AddressFamily.AF_INET, type=2049, proto=6, laddr=('10.83.15.248', 34888), raddr=('104.244.42.130', 443)>\n",
      "  if not all(isinstance(x, PolicyInformation) for x in policies):\n",
      "/home/mboos/anaconda3/envs/brainhacktwitter/lib/python3.6/site-packages/tweepy/binder.py:222: ResourceWarning: unclosed <socket.socket fd=51, family=AddressFamily.AF_INET, type=2049, proto=6, laddr=('10.83.15.248', 55614), raddr=('104.244.42.66', 443)>\n",
      "  self.api.last_response = resp\n"
     ]
    }
   ],
   "source": [
    "import download_twitter_followers as brainhack\n",
    "user_ids = brainhack.get_id_from_user_screennames(data_dict.keys(), brainhack.main_api)"
   ]
  },
  {
   "cell_type": "markdown",
   "metadata": {},
   "source": [
    "## The simplest similarity\n",
    "We now compute how many followers are shared between any two users by a simple matrix multiplication."
   ]
  },
  {
   "cell_type": "code",
   "execution_count": 31,
   "metadata": {},
   "outputs": [],
   "source": [
    "shared_followers = sparse_mat.dot(sparse_mat.T).todense()\n",
    "max_followers = np.zeros_like(shared_followers)\n",
    "for i in range(shared_followers.shape[0]):\n",
    "    for j in range(shared_followers.shape[1]):\n",
    "        max_followers[i,j] = min(np.diag(shared_followers)[i], np.diag(shared_followers)[j])\n",
    "normalized_followers = shared_followers / max_followers"
   ]
  },
  {
   "cell_type": "markdown",
   "metadata": {},
   "source": [
    "## Embedding it in a space\n",
    "We now embed all followers of Brainhack Warsaw in a two dimensional space.\n",
    "For this we use dimensionality reduction to project individual users in a space that groups users with a high number of shared followers closer together than users with a low number."
   ]
  },
  {
   "cell_type": "code",
   "execution_count": 32,
   "metadata": {},
   "outputs": [],
   "source": [
    "import umap\n",
    "shared_embedding = umap.UMAP(n_components=2, min_dist=0.1, metric='precomputed', n_neighbors=8).fit_transform(\n",
    "    normalized_followers)"
   ]
  },
  {
   "cell_type": "code",
   "execution_count": 42,
   "metadata": {},
   "outputs": [],
   "source": [
    "normalized_followers[np.diag_indices_from(shared_followers)] = 0"
   ]
  },
  {
   "cell_type": "code",
   "execution_count": 45,
   "metadata": {},
   "outputs": [
    {
     "name": "stderr",
     "output_type": "stream",
     "text": [
      "/home/mboos/anaconda3/envs/brainhacktwitter/lib/python3.6/site-packages/nilearn/plotting/matrix_plotting.py:99: ClusterWarning: scipy.cluster: The symmetric non-negative hollow observation matrix looks suspiciously like an uncondensed distance matrix\n",
      "  linkage_matrix = linkage(mat, method=reorder)\n"
     ]
    },
    {
     "data": {
      "text/plain": [
       "<matplotlib.image.AxesImage at 0x7fa3c8f91940>"
      ]
     },
     "execution_count": 45,
     "metadata": {},
     "output_type": "execute_result"
    },
    {
     "data": {
      "image/png": "[encoded data removed]",
      "text/plain": [
       "<Figure size 504x360 with 2 Axes>"
      ]
     },
     "metadata": {
      "needs_background": "light"
     },
     "output_type": "display_data"
    }
   ],
   "source": [
    "from nilearn.plotting import plot_matrix\n",
    "plot_matrix(normalized_followers, reorder=True, labels=np.arange(50))\n",
    "#plt.imshow(normalized_followers)"
   ]
  },
  {
   "cell_type": "markdown",
   "metadata": {},
   "source": [
    "## Visualizing the space\n",
    "We now visualize it."
   ]
  },
  {
   "cell_type": "code",
   "execution_count": null,
   "metadata": {},
   "outputs": [],
   "source": [
    "fig = go.Figure(data=[edge_trace, node_trace],\n",
    "             layout=go.Layout(\n",
    "                title='<br>Network graph made with Python',\n",
    "                titlefont=dict(size=16),\n",
    "                showlegend=False,\n",
    "                hovermode='closest',\n",
    "                margin=dict(b=20,l=5,r=5,t=40),\n",
    "                annotations=[ dict(\n",
    "                    text=\"Python code: <a href='https://plot.ly/ipython-notebooks/network-graphs/'> https://plot.ly/ipython-notebooks/network-graphs/</a>\",\n",
    "                    showarrow=False,\n",
    "                    xref=\"paper\", yref=\"paper\",\n",
    "                    x=0.005, y=-0.002 ) ],\n",
    "                xaxis=dict(showgrid=False, zeroline=False, showticklabels=False),\n",
    "                yaxis=dict(showgrid=False, zeroline=False, showticklabels=False)))\n",
    "\n",
    "py.iplot(fig, filename='networkx')"
   ]
  },
  {
   "cell_type": "code",
   "execution_count": 35,
   "metadata": {},
   "outputs": [
    {
     "name": "stderr",
     "output_type": "stream",
     "text": [
      "/home/mboos/anaconda3/envs/brainhacktwitter/lib/python3.6/site-packages/sklearn/utils/validation.py:595: DataConversionWarning: Data with input dtype int64 was converted to float64.\n",
      "  warnings.warn(msg, DataConversionWarning)\n"
     ]
    },
    {
     "data": {
      "text/html": [
       "\n",
       "    <div class=\"bk-root\">\n",
       "        <a href=\"https://bokeh.pydata.org\" target=\"_blank\" class=\"bk-logo bk-logo-small bk-logo-notebook\"></a>\n",
       "        <span id=\"1623\">Loading BokehJS ...</span>\n",
       "    </div>"
      ]
     },
     "metadata": {},
     "output_type": "display_data"
    },
    {
     "data": {
      "application/javascript": [
       "\n",
       "(function(root) {\n",
       "  function now() {\n",
       "    return new Date();\n",
       "  }\n",
       "\n",
       "  var force = true;\n",
       "\n",
       "  if (typeof (root._bokeh_onload_callbacks) === \"undefined\" || force === true) {\n",
       "    root._bokeh_onload_callbacks = [];\n",
       "    root._bokeh_is_loading = undefined;\n",
       "  }\n",
       "\n",
       "  var JS_MIME_TYPE = 'application/javascript';\n",
       "  var HTML_MIME_TYPE = 'text/html';\n",
       "  var EXEC_MIME_TYPE = 'application/vnd.bokehjs_exec.v0+json';\n",
       "  var CLASS_NAME = 'output_bokeh rendered_html';\n",
       "\n",
       "  /**\n",
       "   * Render data to the DOM node\n",
       "   */\n",
       "  function render(props, node) {\n",
       "    var script = document.createElement(\"script\");\n",
       "    node.appendChild(script);\n",
       "  }\n",
       "\n",
       "  /**\n",
       "   * Handle when an output is cleared or removed\n",
       "   */\n",
       "  function handleClearOutput(event, handle) {\n",
       "    var cell = handle.cell;\n",
       "\n",
       "    var id = cell.output_area._bokeh_element_id;\n",
       "    var server_id = cell.output_area._bokeh_server_id;\n",
       "    // Clean up Bokeh references\n",
       "    if (id != null && id in Bokeh.index) {\n",
       "      Bokeh.index[id].model.document.clear();\n",
       "      delete Bokeh.index[id];\n",
       "    }\n",
       "\n",
       "    if (server_id !== undefined) {\n",
       "      // Clean up Bokeh references\n",
       "      var cmd = \"from bokeh.io.state import curstate; print(curstate().uuid_to_server['\" + server_id + \"'].get_sessions()[0].document.roots[0]._id)\";\n",
       "      cell.notebook.kernel.execute(cmd, {\n",
       "        iopub: {\n",
       "          output: function(msg) {\n",
       "            var id = msg.content.text.trim();\n",
       "            if (id in Bokeh.index) {\n",
       "              Bokeh.index[id].model.document.clear();\n",
       "              delete Bokeh.index[id];\n",
       "            }\n",
       "          }\n",
       "        }\n",
       "      });\n",
       "      // Destroy server and session\n",
       "      var cmd = \"import bokeh.io.notebook as ion; ion.destroy_server('\" + server_id + \"')\";\n",
       "      cell.notebook.kernel.execute(cmd);\n",
       "    }\n",
       "  }\n",
       "\n",
       "  /**\n",
       "   * Handle when a new output is added\n",
       "   */\n",
       "  function handleAddOutput(event, handle) {\n",
       "    var output_area = handle.output_area;\n",
       "    var output = handle.output;\n",
       "\n",
       "    // limit handleAddOutput to display_data with EXEC_MIME_TYPE content only\n",
       "    if ((output.output_type != \"display_data\") || (!output.data.hasOwnProperty(EXEC_MIME_TYPE))) {\n",
       "      return\n",
       "    }\n",
       "\n",
       "    var toinsert = output_area.element.find(\".\" + CLASS_NAME.split(' ')[0]);\n",
       "\n",
       "    if (output.metadata[EXEC_MIME_TYPE][\"id\"] !== undefined) {\n",
       "      toinsert[toinsert.length - 1].firstChild.textContent = output.data[JS_MIME_TYPE];\n",
       "      // store reference to embed id on output_area\n",
       "      output_area._bokeh_element_id = output.metadata[EXEC_MIME_TYPE][\"id\"];\n",
       "    }\n",
       "    if (output.metadata[EXEC_MIME_TYPE][\"server_id\"] !== undefined) {\n",
       "      var bk_div = document.createElement(\"div\");\n",
       "      bk_div.innerHTML = output.data[HTML_MIME_TYPE];\n",
       "      var script_attrs = bk_div.children[0].attributes;\n",
       "      for (var i = 0; i < script_attrs.length; i++) {\n",
       "        toinsert[toinsert.length - 1].firstChild.setAttribute(script_attrs[i].name, script_attrs[i].value);\n",
       "      }\n",
       "      // store reference to server id on output_area\n",
       "      output_area._bokeh_server_id = output.metadata[EXEC_MIME_TYPE][\"server_id\"];\n",
       "    }\n",
       "  }\n",
       "\n",
       "  function register_renderer(events, OutputArea) {\n",
       "\n",
       "    function append_mime(data, metadata, element) {\n",
       "      // create a DOM node to render to\n",
       "      var toinsert = this.create_output_subarea(\n",
       "        metadata,\n",
       "        CLASS_NAME,\n",
       "        EXEC_MIME_TYPE\n",
       "      );\n",
       "      this.keyboard_manager.register_events(toinsert);\n",
       "      // Render to node\n",
       "      var props = {data: data, metadata: metadata[EXEC_MIME_TYPE]};\n",
       "      render(props, toinsert[toinsert.length - 1]);\n",
       "      element.append(toinsert);\n",
       "      return toinsert\n",
       "    }\n",
       "\n",
       "    /* Handle when an output is cleared or removed */\n",
       "    events.on('clear_output.CodeCell', handleClearOutput);\n",
       "    events.on('delete.Cell', handleClearOutput);\n",
       "\n",
       "    /* Handle when a new output is added */\n",
       "    events.on('output_added.OutputArea', handleAddOutput);\n",
       "\n",
       "    /**\n",
       "     * Register the mime type and append_mime function with output_area\n",
       "     */\n",
       "    OutputArea.prototype.register_mime_type(EXEC_MIME_TYPE, append_mime, {\n",
       "      /* Is output safe? */\n",
       "      safe: true,\n",
       "      /* Index of renderer in `output_area.display_order` */\n",
       "      index: 0\n",
       "    });\n",
       "  }\n",
       "\n",
       "  // register the mime type if in Jupyter Notebook environment and previously unregistered\n",
       "  if (root.Jupyter !== undefined) {\n",
       "    var events = require('base/js/events');\n",
       "    var OutputArea = require('notebook/js/outputarea').OutputArea;\n",
       "\n",
       "    if (OutputArea.prototype.mime_types().indexOf(EXEC_MIME_TYPE) == -1) {\n",
       "      register_renderer(events, OutputArea);\n",
       "    }\n",
       "  }\n",
       "\n",
       "  \n",
       "  if (typeof (root._bokeh_timeout) === \"undefined\" || force === true) {\n",
       "    root._bokeh_timeout = Date.now() + 5000;\n",
       "    root._bokeh_failed_load = false;\n",
       "  }\n",
       "\n",
       "  var NB_LOAD_WARNING = {'data': {'text/html':\n",
       "     \"<div style='background-color: #fdd'>\\n\"+\n",
       "     \"<p>\\n\"+\n",
       "     \"BokehJS does not appear to have successfully loaded. If loading BokehJS from CDN, this \\n\"+\n",
       "     \"may be due to a slow or bad network connection. Possible fixes:\\n\"+\n",
       "     \"</p>\\n\"+\n",
       "     \"<ul>\\n\"+\n",
       "     \"<li>re-rerun `output_notebook()` to attempt to load from CDN again, or</li>\\n\"+\n",
       "     \"<li>use INLINE resources instead, as so:</li>\\n\"+\n",
       "     \"</ul>\\n\"+\n",
       "     \"<code>\\n\"+\n",
       "     \"from bokeh.resources import INLINE\\n\"+\n",
       "     \"output_notebook(resources=INLINE)\\n\"+\n",
       "     \"</code>\\n\"+\n",
       "     \"</div>\"}};\n",
       "\n",
       "  function display_loaded() {\n",
       "    var el = document.getElementById(\"1623\");\n",
       "    if (el != null) {\n",
       "      el.textContent = \"BokehJS is loading...\";\n",
       "    }\n",
       "    if (root.Bokeh !== undefined) {\n",
       "      if (el != null) {\n",
       "        el.textContent = \"BokehJS \" + root.Bokeh.version + \" successfully loaded.\";\n",
       "      }\n",
       "    } else if (Date.now() < root._bokeh_timeout) {\n",
       "      setTimeout(display_loaded, 100)\n",
       "    }\n",
       "  }\n",
       "\n",
       "\n",
       "  function run_callbacks() {\n",
       "    try {\n",
       "      root._bokeh_onload_callbacks.forEach(function(callback) { callback() });\n",
       "    }\n",
       "    finally {\n",
       "      delete root._bokeh_onload_callbacks\n",
       "    }\n",
       "    console.info(\"Bokeh: all callbacks have finished\");\n",
       "  }\n",
       "\n",
       "  function load_libs(js_urls, callback) {\n",
       "    root._bokeh_onload_callbacks.push(callback);\n",
       "    if (root._bokeh_is_loading > 0) {\n",
       "      console.log(\"Bokeh: BokehJS is being loaded, scheduling callback at\", now());\n",
       "      return null;\n",
       "    }\n",
       "    if (js_urls == null || js_urls.length === 0) {\n",
       "      run_callbacks();\n",
       "      return null;\n",
       "    }\n",
       "    console.log(\"Bokeh: BokehJS not loaded, scheduling load and callback at\", now());\n",
       "    root._bokeh_is_loading = js_urls.length;\n",
       "    for (var i = 0; i < js_urls.length; i++) {\n",
       "      var url = js_urls[i];\n",
       "      var s = document.createElement('script');\n",
       "      s.src = url;\n",
       "      s.async = false;\n",
       "      s.onreadystatechange = s.onload = function() {\n",
       "        root._bokeh_is_loading--;\n",
       "        if (root._bokeh_is_loading === 0) {\n",
       "          console.log(\"Bokeh: all BokehJS libraries loaded\");\n",
       "          run_callbacks()\n",
       "        }\n",
       "      };\n",
       "      s.onerror = function() {\n",
       "        console.warn(\"failed to load library \" + url);\n",
       "      };\n",
       "      console.log(\"Bokeh: injecting script tag for BokehJS library: \", url);\n",
       "      document.getElementsByTagName(\"head\")[0].appendChild(s);\n",
       "    }\n",
       "  };var element = document.getElementById(\"1623\");\n",
       "  if (element == null) {\n",
       "    console.log(\"Bokeh: ERROR: autoload.js configured with elementid '1623' but no matching script tag was found. \")\n",
       "    return false;\n",
       "  }\n",
       "\n",
       "  var js_urls = [\"https://cdn.pydata.org/bokeh/release/bokeh-1.0.4.min.js\", \"https://cdn.pydata.org/bokeh/release/bokeh-widgets-1.0.4.min.js\", \"https://cdn.pydata.org/bokeh/release/bokeh-tables-1.0.4.min.js\", \"https://cdn.pydata.org/bokeh/release/bokeh-gl-1.0.4.min.js\"];\n",
       "\n",
       "  var inline_js = [\n",
       "    function(Bokeh) {\n",
       "      Bokeh.set_log_level(\"info\");\n",
       "    },\n",
       "    \n",
       "    function(Bokeh) {\n",
       "      \n",
       "    },\n",
       "    function(Bokeh) {\n",
       "      console.log(\"Bokeh: injecting CSS: https://cdn.pydata.org/bokeh/release/bokeh-1.0.4.min.css\");\n",
       "      Bokeh.embed.inject_css(\"https://cdn.pydata.org/bokeh/release/bokeh-1.0.4.min.css\");\n",
       "      console.log(\"Bokeh: injecting CSS: https://cdn.pydata.org/bokeh/release/bokeh-widgets-1.0.4.min.css\");\n",
       "      Bokeh.embed.inject_css(\"https://cdn.pydata.org/bokeh/release/bokeh-widgets-1.0.4.min.css\");\n",
       "      console.log(\"Bokeh: injecting CSS: https://cdn.pydata.org/bokeh/release/bokeh-tables-1.0.4.min.css\");\n",
       "      Bokeh.embed.inject_css(\"https://cdn.pydata.org/bokeh/release/bokeh-tables-1.0.4.min.css\");\n",
       "    }\n",
       "  ];\n",
       "\n",
       "  function run_inline_js() {\n",
       "    \n",
       "    if ((root.Bokeh !== undefined) || (force === true)) {\n",
       "      for (var i = 0; i < inline_js.length; i++) {\n",
       "        inline_js[i].call(root, root.Bokeh);\n",
       "      }if (force === true) {\n",
       "        display_loaded();\n",
       "      }} else if (Date.now() < root._bokeh_timeout) {\n",
       "      setTimeout(run_inline_js, 100);\n",
       "    } else if (!root._bokeh_failed_load) {\n",
       "      console.log(\"Bokeh: BokehJS failed to load within specified timeout.\");\n",
       "      root._bokeh_failed_load = true;\n",
       "    } else if (force !== true) {\n",
       "      var cell = $(document.getElementById(\"1623\")).parents('.cell').data().cell;\n",
       "      cell.output_area.append_execute_result(NB_LOAD_WARNING)\n",
       "    }\n",
       "\n",
       "  }\n",
       "\n",
       "  if (root._bokeh_is_loading === 0) {\n",
       "    console.log(\"Bokeh: BokehJS loaded, going straight to plotting\");\n",
       "    run_inline_js();\n",
       "  } else {\n",
       "    load_libs(js_urls, function() {\n",
       "      console.log(\"Bokeh: BokehJS plotting callback run at\", now());\n",
       "      run_inline_js();\n",
       "    });\n",
       "  }\n",
       "}(window));"
      ],
      "application/vnd.bokehjs_load.v0+json": "\n(function(root) {\n  function now() {\n    return new Date();\n  }\n\n  var force = true;\n\n  if (typeof (root._bokeh_onload_callbacks) === \"undefined\" || force === true) {\n    root._bokeh_onload_callbacks = [];\n    root._bokeh_is_loading = undefined;\n  }\n\n  \n\n  \n  if (typeof (root._bokeh_timeout) === \"undefined\" || force === true) {\n    root._bokeh_timeout = Date.now() + 5000;\n    root._bokeh_failed_load = false;\n  }\n\n  var NB_LOAD_WARNING = {'data': {'text/html':\n     \"<div style='background-color: #fdd'>\\n\"+\n     \"<p>\\n\"+\n     \"BokehJS does not appear to have successfully loaded. If loading BokehJS from CDN, this \\n\"+\n     \"may be due to a slow or bad network connection. Possible fixes:\\n\"+\n     \"</p>\\n\"+\n     \"<ul>\\n\"+\n     \"<li>re-rerun `output_notebook()` to attempt to load from CDN again, or</li>\\n\"+\n     \"<li>use INLINE resources instead, as so:</li>\\n\"+\n     \"</ul>\\n\"+\n     \"<code>\\n\"+\n     \"from bokeh.resources import INLINE\\n\"+\n     \"output_notebook(resources=INLINE)\\n\"+\n     \"</code>\\n\"+\n     \"</div>\"}};\n\n  function display_loaded() {\n    var el = document.getElementById(\"1623\");\n    if (el != null) {\n      el.textContent = \"BokehJS is loading...\";\n    }\n    if (root.Bokeh !== undefined) {\n      if (el != null) {\n        el.textContent = \"BokehJS \" + root.Bokeh.version + \" successfully loaded.\";\n      }\n    } else if (Date.now() < root._bokeh_timeout) {\n      setTimeout(display_loaded, 100)\n    }\n  }\n\n\n  function run_callbacks() {\n    try {\n      root._bokeh_onload_callbacks.forEach(function(callback) { callback() });\n    }\n    finally {\n      delete root._bokeh_onload_callbacks\n    }\n    console.info(\"Bokeh: all callbacks have finished\");\n  }\n\n  function load_libs(js_urls, callback) {\n    root._bokeh_onload_callbacks.push(callback);\n    if (root._bokeh_is_loading > 0) {\n      console.log(\"Bokeh: BokehJS is being loaded, scheduling callback at\", now());\n      return null;\n    }\n    if (js_urls == null || js_urls.length === 0) {\n      run_callbacks();\n      return null;\n    }\n    console.log(\"Bokeh: BokehJS not loaded, scheduling load and callback at\", now());\n    root._bokeh_is_loading = js_urls.length;\n    for (var i = 0; i < js_urls.length; i++) {\n      var url = js_urls[i];\n      var s = document.createElement('script');\n      s.src = url;\n      s.async = false;\n      s.onreadystatechange = s.onload = function() {\n        root._bokeh_is_loading--;\n        if (root._bokeh_is_loading === 0) {\n          console.log(\"Bokeh: all BokehJS libraries loaded\");\n          run_callbacks()\n        }\n      };\n      s.onerror = function() {\n        console.warn(\"failed to load library \" + url);\n      };\n      console.log(\"Bokeh: injecting script tag for BokehJS library: \", url);\n      document.getElementsByTagName(\"head\")[0].appendChild(s);\n    }\n  };var element = document.getElementById(\"1623\");\n  if (element == null) {\n    console.log(\"Bokeh: ERROR: autoload.js configured with elementid '1623' but no matching script tag was found. \")\n    return false;\n  }\n\n  var js_urls = [\"https://cdn.pydata.org/bokeh/release/bokeh-1.0.4.min.js\", \"https://cdn.pydata.org/bokeh/release/bokeh-widgets-1.0.4.min.js\", \"https://cdn.pydata.org/bokeh/release/bokeh-tables-1.0.4.min.js\", \"https://cdn.pydata.org/bokeh/release/bokeh-gl-1.0.4.min.js\"];\n\n  var inline_js = [\n    function(Bokeh) {\n      Bokeh.set_log_level(\"info\");\n    },\n    \n    function(Bokeh) {\n      \n    },\n    function(Bokeh) {\n      console.log(\"Bokeh: injecting CSS: https://cdn.pydata.org/bokeh/release/bokeh-1.0.4.min.css\");\n      Bokeh.embed.inject_css(\"https://cdn.pydata.org/bokeh/release/bokeh-1.0.4.min.css\");\n      console.log(\"Bokeh: injecting CSS: https://cdn.pydata.org/bokeh/release/bokeh-widgets-1.0.4.min.css\");\n      Bokeh.embed.inject_css(\"https://cdn.pydata.org/bokeh/release/bokeh-widgets-1.0.4.min.css\");\n      console.log(\"Bokeh: injecting CSS: https://cdn.pydata.org/bokeh/release/bokeh-tables-1.0.4.min.css\");\n      Bokeh.embed.inject_css(\"https://cdn.pydata.org/bokeh/release/bokeh-tables-1.0.4.min.css\");\n    }\n  ];\n\n  function run_inline_js() {\n    \n    if ((root.Bokeh !== undefined) || (force === true)) {\n      for (var i = 0; i < inline_js.length; i++) {\n        inline_js[i].call(root, root.Bokeh);\n      }if (force === true) {\n        display_loaded();\n      }} else if (Date.now() < root._bokeh_timeout) {\n      setTimeout(run_inline_js, 100);\n    } else if (!root._bokeh_failed_load) {\n      console.log(\"Bokeh: BokehJS failed to load within specified timeout.\");\n      root._bokeh_failed_load = true;\n    } else if (force !== true) {\n      var cell = $(document.getElementById(\"1623\")).parents('.cell').data().cell;\n      cell.output_area.append_execute_result(NB_LOAD_WARNING)\n    }\n\n  }\n\n  if (root._bokeh_is_loading === 0) {\n    console.log(\"Bokeh: BokehJS loaded, going straight to plotting\");\n    run_inline_js();\n  } else {\n    load_libs(js_urls, function() {\n      console.log(\"Bokeh: BokehJS plotting callback run at\", now());\n      run_inline_js();\n    });\n  }\n}(window));"
     },
     "metadata": {},
     "output_type": "display_data"
    },
    {
     "data": {
      "text/html": [
       "\n",
       "\n",
       "\n",
       "\n",
       "\n",
       "\n",
       "  <div class=\"bk-root\" id=\"ca5f5c03-020d-460e-8e62-0dd3699fea85\" data-root-id=\"1596\"></div>\n"
      ]
     },
     "metadata": {},
     "output_type": "display_data"
    },
    {
     "data": {
      "application/javascript": [
       "(function(root) {\n",
       "  function embed_document(root) {\n",
       "    \n",
       "  var docs_json = {\"90e39736-cd28-41ec-b797-c3bbe44ae590\":{\"roots\":{\"references\":[{\"attributes\":{\"below\":[{\"id\":\"1606\",\"type\":\"LinearAxis\"}],\"left\":[{\"id\":\"1611\",\"type\":\"LinearAxis\"}],\"plot_height\":500,\"plot_width\":700,\"renderers\":[{\"id\":\"1606\",\"type\":\"LinearAxis\"},{\"id\":\"1610\",\"type\":\"Grid\"},{\"id\":\"1611\",\"type\":\"LinearAxis\"},{\"id\":\"1615\",\"type\":\"Grid\"},{\"id\":\"1621\",\"type\":\"GlyphRenderer\"}],\"title\":{\"id\":\"1595\",\"type\":\"Title\"},\"toolbar\":{\"id\":\"1616\",\"type\":\"Toolbar\"},\"x_range\":{\"id\":\"1598\",\"type\":\"DataRange1d\"},\"x_scale\":{\"id\":\"1602\",\"type\":\"LinearScale\"},\"y_range\":{\"id\":\"1600\",\"type\":\"DataRange1d\"},\"y_scale\":{\"id\":\"1604\",\"type\":\"LinearScale\"}},\"id\":\"1596\",\"subtype\":\"Figure\",\"type\":\"Plot\"},{\"attributes\":{\"data_source\":{\"id\":\"1592\",\"type\":\"ColumnDataSource\"},\"glyph\":{\"id\":\"1619\",\"type\":\"Circle\"},\"hover_glyph\":null,\"muted_glyph\":null,\"nonselection_glyph\":{\"id\":\"1620\",\"type\":\"Circle\"},\"selection_glyph\":null,\"view\":{\"id\":\"1622\",\"type\":\"CDSView\"}},\"id\":\"1621\",\"type\":\"GlyphRenderer\"},{\"attributes\":{},\"id\":\"1607\",\"type\":\"BasicTicker\"},{\"attributes\":{\"callback\":null,\"tooltips\":[[\"User\",\"@desc\"]]},\"id\":\"1593\",\"type\":\"HoverTool\"},{\"attributes\":{\"source\":{\"id\":\"1592\",\"type\":\"ColumnDataSource\"}},\"id\":\"1622\",\"type\":\"CDSView\"},{\"attributes\":{\"formatter\":{\"id\":\"1668\",\"type\":\"BasicTickFormatter\"},\"plot\":{\"id\":\"1596\",\"subtype\":\"Figure\",\"type\":\"Plot\"},\"ticker\":{\"id\":\"1607\",\"type\":\"BasicTicker\"}},\"id\":\"1606\",\"type\":\"LinearAxis\"},{\"attributes\":{},\"id\":\"1671\",\"type\":\"Selection\"},{\"attributes\":{},\"id\":\"1670\",\"type\":\"BasicTickFormatter\"},{\"attributes\":{},\"id\":\"1672\",\"type\":\"UnionRenderers\"},{\"attributes\":{},\"id\":\"1668\",\"type\":\"BasicTickFormatter\"},{\"attributes\":{\"plot\":{\"id\":\"1596\",\"subtype\":\"Figure\",\"type\":\"Plot\"},\"ticker\":{\"id\":\"1607\",\"type\":\"BasicTicker\"}},\"id\":\"1610\",\"type\":\"Grid\"},{\"attributes\":{\"callback\":null,\"data\":{\"desc\":[\"AlfredAnwander\",\"AntoniJamio\",\"BHDonostia\",\"BlmzRina\",\"BorkiewiczPola\",\"CUBRICcardiff\",\"C_LAB_UJ\",\"CrookRumsey\",\"DGMCCAMMON\",\"EmpickaMartyna\",\"Ke20\",\"LOkruszek\",\"M_Kosilo\",\"MartynaPlomecka\",\"NeilDBrownLCSW\",\"NetworkTremieu1\",\"Olgierd46353783\",\"RamkiranShukti\",\"Renatocfduarte\",\"RoselyneChauvin\",\"SebastianGP13\",\"SudoNeuroSci\",\"TristanGlatard\",\"TrojKac\",\"anja_ries\",\"cusacklab\",\"davidepoggiali\",\"hanianow\",\"heyi110\",\"j3r3mg\",\"karolaam96\",\"mBrainTrain\",\"m_manahova\",\"marekPedziwi\",\"martin_a_vinck\",\"martinagvilas\",\"mikolaj_pawlak\",\"mkachlicka\",\"mkoculak\",\"molendowska_m\",\"neurabenn\",\"nexus_neuro\",\"nikaradziun\",\"peerherholz\",\"pmigdal\",\"pravish_sainath\",\"rudzinskimaciej\",\"sandracbl\",\"sofie_vdbos\",\"yadwink\"],\"x\":{\"__ndarray__\":\"scowQYzkK0H7nBZBDyglQT2GMUFeHjdBDxgCQaEVFkGgZTBBjRgWQYSiHkFO1AZB2P8dQbnUA0GtOAtBf2MUQVO4C0FjPvtAyfIjQS6DKEGkXgNBc7AlQZp3FEG1ZCRBOyshQZ0ELkGq2hJBD2EcQftfIEGwaQFB2DUHQZuQIkEW5BpBxdMdQbibHUE71idBwlMrQVLMC0F1ORFBPjQeQat/EEEcKw1Bz9wMQVX+EUHxIxlBcHQmQUGSG0HYuhVBzuwHQatoCEE=\",\"dtype\":\"float32\",\"shape\":[50]},\"y\":{\"__ndarray__\":\"mVIuQe2oJEGqtxNBLt8YQUArIEEVHipBbuo0QT51KkFoaTRB2KhBQWFeCEGQcD1BdFs+QdI/FkEPQjlBEdQzQRuBNEFHOy1Bwf0wQX3JOkGKOB5Be+cMQZ4jJUGw7ChBI74SQe9UE0FgwDtB0eElQVfhI0FzLSZBirkbQRh7NkGEtR1BebotQfVcEkGmDy5BakoeQRlCKkHa7hBB42w0QbsBIUEp5RdBdOUdQYjpLUHmazBBLgkdQezXHEGpBhtBfAovQXGXJEE=\",\"dtype\":\"float32\",\"shape\":[50]},\"z\":{\"__ndarray__\":\"4s2INyNeMUCXZVmWZRkUQNLJRycfXRRALcuyLMsyFEDizYg3Ix4gQJZlWZZlaTlAGYZhGIZhFkAT2ktoL6EYQFgrYK2A9RRApJOPTj66FED1p9SfUp8hQDv56OSj0xRAYhiGYRjmLEDw+77v+34UQP///////z1Ah2EYhmGYFECXZVmWZRkUQAAAAAAAABRAGIZhGIahHEDctm3btu0iQNDzPM/zfBVAzLIsy7JsHUCf53me5zkdQKb+lPpTKhRAsFbAWgHrFUAXG1xscBEgQBJvRrwZMRlAtgLWCljrGUAty7IsyzIUQEIQBEEQRBhAHjJ3yNwhFEC/7/u+73szQHwJ7SW0FxlAssHFBhebG0B+3/d93zceQIBK/Sn1hyBAMQzDMAzDGEAGrBWwVgAYQO0ltJfQnhVAHjJ3yNwhFECUj04+OjkVQP4p9afUHxVAZlmWZVnWG0Ckk49OPvogQA6ZO2Tu8C9AS/0p9adUFEDz0clHJ58ZQPYS2ktoTydA+H3f931fF0B+3/d93/cXQA==\",\"dtype\":\"float64\",\"shape\":[50]}},\"selected\":{\"id\":\"1671\",\"type\":\"Selection\"},\"selection_policy\":{\"id\":\"1672\",\"type\":\"UnionRenderers\"}},\"id\":\"1592\",\"type\":\"ColumnDataSource\"},{\"attributes\":{\"fill_alpha\":{\"value\":0.1},\"fill_color\":{\"value\":\"#1f77b4\"},\"line_alpha\":{\"value\":0.1},\"line_color\":{\"value\":\"#1f77b4\"},\"size\":{\"field\":\"z\",\"units\":\"screen\"},\"x\":{\"field\":\"x\"},\"y\":{\"field\":\"y\"}},\"id\":\"1620\",\"type\":\"Circle\"},{\"attributes\":{},\"id\":\"1612\",\"type\":\"BasicTicker\"},{\"attributes\":{\"plot\":null,\"text\":\"Shared followers\"},\"id\":\"1595\",\"type\":\"Title\"},{\"attributes\":{\"fill_color\":{\"field\":\"y\",\"transform\":{\"id\":\"1594\",\"type\":\"LinearColorMapper\"}},\"line_color\":{\"value\":\"#1f77b4\"},\"size\":{\"field\":\"z\",\"units\":\"screen\"},\"x\":{\"field\":\"x\"},\"y\":{\"field\":\"y\"}},\"id\":\"1619\",\"type\":\"Circle\"},{\"attributes\":{\"active_drag\":\"auto\",\"active_inspect\":\"auto\",\"active_multi\":null,\"active_scroll\":\"auto\",\"active_tap\":\"auto\",\"tools\":[{\"id\":\"1593\",\"type\":\"HoverTool\"}]},\"id\":\"1616\",\"type\":\"Toolbar\"},{\"attributes\":{\"callback\":null},\"id\":\"1598\",\"type\":\"DataRange1d\"},{\"attributes\":{\"dimension\":1,\"plot\":{\"id\":\"1596\",\"subtype\":\"Figure\",\"type\":\"Plot\"},\"ticker\":{\"id\":\"1612\",\"type\":\"BasicTicker\"}},\"id\":\"1615\",\"type\":\"Grid\"},{\"attributes\":{\"callback\":null},\"id\":\"1600\",\"type\":\"DataRange1d\"},{\"attributes\":{},\"id\":\"1602\",\"type\":\"LinearScale\"},{\"attributes\":{\"high\":12.103721618652344,\"low\":8.523041725158691,\"palette\":[\"#0C0786\",\"#100787\",\"#130689\",\"#15068A\",\"#18068B\",\"#1B068C\",\"#1D068D\",\"#1F058E\",\"#21058F\",\"#230590\",\"#250591\",\"#270592\",\"#290593\",\"#2B0594\",\"#2D0494\",\"#2F0495\",\"#310496\",\"#330497\",\"#340498\",\"#360498\",\"#380499\",\"#3A049A\",\"#3B039A\",\"#3D039B\",\"#3F039C\",\"#40039C\",\"#42039D\",\"#44039E\",\"#45039E\",\"#47029F\",\"#49029F\",\"#4A02A0\",\"#4C02A1\",\"#4E02A1\",\"#4F02A2\",\"#5101A2\",\"#5201A3\",\"#5401A3\",\"#5601A3\",\"#5701A4\",\"#5901A4\",\"#5A00A5\",\"#5C00A5\",\"#5E00A5\",\"#5F00A6\",\"#6100A6\",\"#6200A6\",\"#6400A7\",\"#6500A7\",\"#6700A7\",\"#6800A7\",\"#6A00A7\",\"#6C00A8\",\"#6D00A8\",\"#6F00A8\",\"#7000A8\",\"#7200A8\",\"#7300A8\",\"#7500A8\",\"#7601A8\",\"#7801A8\",\"#7901A8\",\"#7B02A8\",\"#7C02A7\",\"#7E03A7\",\"#7F03A7\",\"#8104A7\",\"#8204A7\",\"#8405A6\",\"#8506A6\",\"#8607A6\",\"#8807A5\",\"#8908A5\",\"#8B09A4\",\"#8C0AA4\",\"#8E0CA4\",\"#8F0DA3\",\"#900EA3\",\"#920FA2\",\"#9310A1\",\"#9511A1\",\"#9612A0\",\"#9713A0\",\"#99149F\",\"#9A159E\",\"#9B179E\",\"#9D189D\",\"#9E199C\",\"#9F1A9B\",\"#A01B9B\",\"#A21C9A\",\"#A31D99\",\"#A41E98\",\"#A51F97\",\"#A72197\",\"#A82296\",\"#A92395\",\"#AA2494\",\"#AC2593\",\"#AD2692\",\"#AE2791\",\"#AF2890\",\"#B02A8F\",\"#B12B8F\",\"#B22C8E\",\"#B42D8D\",\"#B52E8C\",\"#B62F8B\",\"#B7308A\",\"#B83289\",\"#B93388\",\"#BA3487\",\"#BB3586\",\"#BC3685\",\"#BD3784\",\"#BE3883\",\"#BF3982\",\"#C03B81\",\"#C13C80\",\"#C23D80\",\"#C33E7F\",\"#C43F7E\",\"#C5407D\",\"#C6417C\",\"#C7427B\",\"#C8447A\",\"#C94579\",\"#CA4678\",\"#CB4777\",\"#CC4876\",\"#CD4975\",\"#CE4A75\",\"#CF4B74\",\"#D04D73\",\"#D14E72\",\"#D14F71\",\"#D25070\",\"#D3516F\",\"#D4526E\",\"#D5536D\",\"#D6556D\",\"#D7566C\",\"#D7576B\",\"#D8586A\",\"#D95969\",\"#DA5A68\",\"#DB5B67\",\"#DC5D66\",\"#DC5E66\",\"#DD5F65\",\"#DE6064\",\"#DF6163\",\"#DF6262\",\"#E06461\",\"#E16560\",\"#E26660\",\"#E3675F\",\"#E3685E\",\"#E46A5D\",\"#E56B5C\",\"#E56C5B\",\"#E66D5A\",\"#E76E5A\",\"#E87059\",\"#E87158\",\"#E97257\",\"#EA7356\",\"#EA7455\",\"#EB7654\",\"#EC7754\",\"#EC7853\",\"#ED7952\",\"#ED7B51\",\"#EE7C50\",\"#EF7D4F\",\"#EF7E4E\",\"#F0804D\",\"#F0814D\",\"#F1824C\",\"#F2844B\",\"#F2854A\",\"#F38649\",\"#F38748\",\"#F48947\",\"#F48A47\",\"#F58B46\",\"#F58D45\",\"#F68E44\",\"#F68F43\",\"#F69142\",\"#F79241\",\"#F79341\",\"#F89540\",\"#F8963F\",\"#F8983E\",\"#F9993D\",\"#F99A3C\",\"#FA9C3B\",\"#FA9D3A\",\"#FA9F3A\",\"#FAA039\",\"#FBA238\",\"#FBA337\",\"#FBA436\",\"#FCA635\",\"#FCA735\",\"#FCA934\",\"#FCAA33\",\"#FCAC32\",\"#FCAD31\",\"#FDAF31\",\"#FDB030\",\"#FDB22F\",\"#FDB32E\",\"#FDB52D\",\"#FDB62D\",\"#FDB82C\",\"#FDB92B\",\"#FDBB2B\",\"#FDBC2A\",\"#FDBE29\",\"#FDC029\",\"#FDC128\",\"#FDC328\",\"#FDC427\",\"#FDC626\",\"#FCC726\",\"#FCC926\",\"#FCCB25\",\"#FCCC25\",\"#FCCE25\",\"#FBD024\",\"#FBD124\",\"#FBD324\",\"#FAD524\",\"#FAD624\",\"#FAD824\",\"#F9D924\",\"#F9DB24\",\"#F8DD24\",\"#F8DF24\",\"#F7E024\",\"#F7E225\",\"#F6E425\",\"#F6E525\",\"#F5E726\",\"#F5E926\",\"#F4EA26\",\"#F3EC26\",\"#F3EE26\",\"#F2F026\",\"#F2F126\",\"#F1F326\",\"#F0F525\",\"#F0F623\",\"#EFF821\"]},\"id\":\"1594\",\"type\":\"LinearColorMapper\"},{\"attributes\":{\"formatter\":{\"id\":\"1670\",\"type\":\"BasicTickFormatter\"},\"plot\":{\"id\":\"1596\",\"subtype\":\"Figure\",\"type\":\"Plot\"},\"ticker\":{\"id\":\"1612\",\"type\":\"BasicTicker\"}},\"id\":\"1611\",\"type\":\"LinearAxis\"},{\"attributes\":{},\"id\":\"1604\",\"type\":\"LinearScale\"}],\"root_ids\":[\"1596\"]},\"title\":\"Bokeh Application\",\"version\":\"1.0.4\"}};\n",
       "  var render_items = [{\"docid\":\"90e39736-cd28-41ec-b797-c3bbe44ae590\",\"roots\":{\"1596\":\"ca5f5c03-020d-460e-8e62-0dd3699fea85\"}}];\n",
       "  root.Bokeh.embed.embed_items_notebook(docs_json, render_items);\n",
       "\n",
       "  }\n",
       "  if (root.Bokeh !== undefined) {\n",
       "    embed_document(root);\n",
       "  } else {\n",
       "    var attempts = 0;\n",
       "    var timer = setInterval(function(root) {\n",
       "      if (root.Bokeh !== undefined) {\n",
       "        embed_document(root);\n",
       "        clearInterval(timer);\n",
       "      }\n",
       "      attempts++;\n",
       "      if (attempts > 100) {\n",
       "        console.log(\"Bokeh: ERROR: Unable to run BokehJS code because BokehJS library is missing\");\n",
       "        clearInterval(timer);\n",
       "      }\n",
       "    }, 10, root)\n",
       "  }\n",
       "})(window);"
      ],
      "application/vnd.bokehjs_exec.v0+json": ""
     },
     "metadata": {
      "application/vnd.bokehjs_exec.v0+json": {
       "id": "1596"
      }
     },
     "output_type": "display_data"
    }
   ],
   "source": [
    "import matplotlib.pyplot as plt\n",
    "import numpy as np\n",
    "import mpld3\n",
    "from sklearn.preprocessing import minmax_scale\n",
    "\n",
    "\n",
    "from bokeh.io import output_file, show, output_notebook\n",
    "from bokeh.models import ColumnDataSource, HoverTool, LinearColorMapper\n",
    "from bokeh.palettes import plasma\n",
    "from bokeh.plotting import figure\n",
    "from bokeh.transform import transform\n",
    "\n",
    "labels = sorted(data_dict.keys())\n",
    "source = ColumnDataSource(data=dict(x=shared_embedding[:,0], y=shared_embedding[:,1], z=minmax_scale(\n",
    "    np.diag(shared_followers), (5,30)), desc=labels))\n",
    "hover = HoverTool(tooltips=[\n",
    "    ('User', '@desc'),\n",
    "])\n",
    "mapper = LinearColorMapper(palette=plasma(256),\n",
    "                           low=shared_embedding[:,1].min(), high=shared_embedding[:,1].max())\n",
    "\n",
    "p = figure(plot_width=700, plot_height=500, tools=[hover], title=\"Shared followers\")\n",
    "p.circle('x', 'y', size='z', source=source,\n",
    "         fill_color=transform('y', mapper))\n",
    "\n",
    "output_notebook()\n",
    "show(p)"
   ]
  }
 ],
 "metadata": {
  "kernelspec": {
   "display_name": "brainhack",
   "language": "python",
   "name": "brainhacktwitter"
  },
  "language_info": {
   "codemirror_mode": {
    "name": "ipython",
    "version": 3
   },
   "file_extension": ".py",
   "mimetype": "text/x-python",
   "name": "python",
   "nbconvert_exporter": "python",
   "pygments_lexer": "ipython3",
   "version": "3.6.8"
  }
 },
 "nbformat": 4,
 "nbformat_minor": 2
}
